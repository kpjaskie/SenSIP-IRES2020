{
  "nbformat": 4,
  "nbformat_minor": 0,
  "metadata": {
    "colab": {
      "name": "Solar Panel Regression.ipynb",
      "provenance": [],
      "authorship_tag": "ABX9TyPrP2eEp3nc4Xypoz1+gJpY",
      "include_colab_link": true
    },
    "kernelspec": {
      "name": "python3",
      "display_name": "Python 3"
    }
  },
  "cells": [
    {
      "cell_type": "markdown",
      "metadata": {
        "id": "view-in-github",
        "colab_type": "text"
      },
      "source": [
        "<a href=\"https://colab.research.google.com/github/kpjaskie/SenSIP-IRES2020/blob/master/Solar_Panel_Regression.ipynb\" target=\"_parent\"><img src=\"https://colab.research.google.com/assets/colab-badge.svg\" alt=\"Open In Colab\"/></a>"
      ]
    },
    {
      "cell_type": "markdown",
      "metadata": {
        "id": "jAaenxcVTiWu",
        "colab_type": "text"
      },
      "source": [
        "#Solar Energy Prediction \n",
        "\n",
        "In this notebook, we look at two forms of solar panel production data:\n",
        "* High resolution data gathered every five to fifteen minutes.  \n",
        "* Low resolution daily total energy production.  \n",
        "\n",
        "For both of these types of data, we will perform multiple regression algorithms to try and forecast future energy production."
      ]
    },
    {
      "cell_type": "code",
      "metadata": {
        "id": "d4xwicG7IFvB",
        "colab_type": "code",
        "colab": {}
      },
      "source": [
        "%matplotlib inline\n",
        "#%matplotlib notebook\n",
        "import matplotlib.pyplot as plt\n",
        "from mpl_toolkits.mplot3d import axes3d\n",
        "import numpy as np\n",
        "import pandas as pd\n",
        "\n",
        "from sklearn.linear_model import LinearRegression\n",
        "from sklearn.metrics import mean_squared_error\n",
        "from sklearn.preprocessing import PolynomialFeatures\n",
        "from sklearn.pipeline import make_pipeline\n",
        "from sklearn.neural_network import MLPRegressor"
      ],
      "execution_count": 202,
      "outputs": []
    },
    {
      "cell_type": "markdown",
      "metadata": {
        "id": "GeWaEyaCTfVc",
        "colab_type": "text"
      },
      "source": [
        "#High Resolution\n",
        "\n",
        "This data file contains date/time information and the total power produced in kilowatts in 5 minute increments. \n",
        "\n",
        "Because the data in this file has been modified to remove the night-time information, this program is designed to work exclusively with the Cyprus datasets created by Josh.  Code modification will be required for this to work with other data."
      ]
    },
    {
      "cell_type": "markdown",
      "metadata": {
        "id": "t9LPNMNez2KU",
        "colab_type": "text"
      },
      "source": [
        "## Load Data"
      ]
    },
    {
      "cell_type": "code",
      "metadata": {
        "id": "4VJQ_g0qPov4",
        "colab_type": "code",
        "colab": {
          "resources": {
            "http://localhost:8080/nbextensions/google.colab/files.js": {
              "data": "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",
              "ok": true,
              "headers": [
                [
                  "content-type",
                  "application/javascript"
                ]
              ],
              "status": 200,
              "status_text": ""
            }
          },
          "base_uri": "https://localhost:8080/",
          "height": 73
        },
        "outputId": "3a15416f-bfdc-4228-e5ac-75348c0f7d15"
      },
      "source": [
        "from google.colab import files\n",
        "uploaded = files.upload() #Load 80929.csv "
      ],
      "execution_count": 2,
      "outputs": [
        {
          "output_type": "display_data",
          "data": {
            "text/html": [
              "\n",
              "     <input type=\"file\" id=\"files-af564c83-1225-47fb-b4c5-6445bd0075e1\" name=\"files[]\" multiple disabled\n",
              "        style=\"border:none\" />\n",
              "     <output id=\"result-af564c83-1225-47fb-b4c5-6445bd0075e1\">\n",
              "      Upload widget is only available when the cell has been executed in the\n",
              "      current browser session. Please rerun this cell to enable.\n",
              "      </output>\n",
              "      <script src=\"/nbextensions/google.colab/files.js\"></script> "
            ],
            "text/plain": [
              "<IPython.core.display.HTML object>"
            ]
          },
          "metadata": {
            "tags": []
          }
        },
        {
          "output_type": "stream",
          "text": [
            "Saving 80929.csv to 80929.csv\n"
          ],
          "name": "stdout"
        }
      ]
    },
    {
      "cell_type": "markdown",
      "metadata": {
        "id": "-_1Kcaqi1Asw",
        "colab_type": "text"
      },
      "source": [
        "We're going to read our csv file into a Pandas DataFrame.  To distinguish this dataframe from later dataframes, we will call it df_hr for \"dataframe high resolution\"."
      ]
    },
    {
      "cell_type": "code",
      "metadata": {
        "id": "ZQbI5Hk_QOFJ",
        "colab_type": "code",
        "colab": {
          "base_uri": "https://localhost:8080/",
          "height": 404
        },
        "outputId": "8ffe5d7f-a50d-4610-9202-f6e6d2d88a3b"
      },
      "source": [
        "data_path = '/content/80929.csv'\n",
        "df_hr = pd.read_csv(data_path, delimiter=',') \n",
        "df_hr"
      ],
      "execution_count": 3,
      "outputs": [
        {
          "output_type": "execute_result",
          "data": {
            "text/html": [
              "<div>\n",
              "<style scoped>\n",
              "    .dataframe tbody tr th:only-of-type {\n",
              "        vertical-align: middle;\n",
              "    }\n",
              "\n",
              "    .dataframe tbody tr th {\n",
              "        vertical-align: top;\n",
              "    }\n",
              "\n",
              "    .dataframe thead th {\n",
              "        text-align: right;\n",
              "    }\n",
              "</style>\n",
              "<table border=\"1\" class=\"dataframe\">\n",
              "  <thead>\n",
              "    <tr style=\"text-align: right;\">\n",
              "      <th></th>\n",
              "      <th>Date</th>\n",
              "      <th>Power (kW)</th>\n",
              "    </tr>\n",
              "  </thead>\n",
              "  <tbody>\n",
              "    <tr>\n",
              "      <th>0</th>\n",
              "      <td>9/30/2014 8:50</td>\n",
              "      <td>0.0</td>\n",
              "    </tr>\n",
              "    <tr>\n",
              "      <th>1</th>\n",
              "      <td>9/30/2014 8:55</td>\n",
              "      <td>1032.0</td>\n",
              "    </tr>\n",
              "    <tr>\n",
              "      <th>2</th>\n",
              "      <td>9/30/2014 9:00</td>\n",
              "      <td>1082.5</td>\n",
              "    </tr>\n",
              "    <tr>\n",
              "      <th>3</th>\n",
              "      <td>9/30/2014 9:05</td>\n",
              "      <td>1094.5</td>\n",
              "    </tr>\n",
              "    <tr>\n",
              "      <th>4</th>\n",
              "      <td>9/30/2014 9:10</td>\n",
              "      <td>1175.5</td>\n",
              "    </tr>\n",
              "    <tr>\n",
              "      <th>...</th>\n",
              "      <td>...</td>\n",
              "      <td>...</td>\n",
              "    </tr>\n",
              "    <tr>\n",
              "      <th>302423</th>\n",
              "      <td>6/4/2020 19:48</td>\n",
              "      <td>1.5</td>\n",
              "    </tr>\n",
              "    <tr>\n",
              "      <th>302424</th>\n",
              "      <td>6/4/2020 19:53</td>\n",
              "      <td>0.0</td>\n",
              "    </tr>\n",
              "    <tr>\n",
              "      <th>302425</th>\n",
              "      <td>6/4/2020 19:56</td>\n",
              "      <td>0.0</td>\n",
              "    </tr>\n",
              "    <tr>\n",
              "      <th>302426</th>\n",
              "      <td>6/4/2020 20:01</td>\n",
              "      <td>0.0</td>\n",
              "    </tr>\n",
              "    <tr>\n",
              "      <th>302427</th>\n",
              "      <td>6/4/2020 20:01</td>\n",
              "      <td>0.0</td>\n",
              "    </tr>\n",
              "  </tbody>\n",
              "</table>\n",
              "<p>302428 rows × 2 columns</p>\n",
              "</div>"
            ],
            "text/plain": [
              "                  Date  Power (kW)\n",
              "0       9/30/2014 8:50         0.0\n",
              "1       9/30/2014 8:55      1032.0\n",
              "2       9/30/2014 9:00      1082.5\n",
              "3       9/30/2014 9:05      1094.5\n",
              "4       9/30/2014 9:10      1175.5\n",
              "...                ...         ...\n",
              "302423  6/4/2020 19:48         1.5\n",
              "302424  6/4/2020 19:53         0.0\n",
              "302425  6/4/2020 19:56         0.0\n",
              "302426  6/4/2020 20:01         0.0\n",
              "302427  6/4/2020 20:01         0.0\n",
              "\n",
              "[302428 rows x 2 columns]"
            ]
          },
          "metadata": {
            "tags": []
          },
          "execution_count": 3
        }
      ]
    },
    {
      "cell_type": "markdown",
      "metadata": {
        "id": "UObMIrC50IPv",
        "colab_type": "text"
      },
      "source": [
        "## Clean Data\n",
        "\n",
        "At this point, I'm going to remove the date/time information and only retain the energy signal.  This date/time information may be useful in other applications in the future, but for now we don't need it."
      ]
    },
    {
      "cell_type": "code",
      "metadata": {
        "id": "sEjOK6_kSlUu",
        "colab_type": "code",
        "colab": {
          "base_uri": "https://localhost:8080/",
          "height": 404
        },
        "outputId": "2890ee41-3a9f-494d-d008-bc202f6ae4fd"
      },
      "source": [
        "df_y_hr = df_hr.drop(columns=['Date'])\n",
        "df_y_hr"
      ],
      "execution_count": 4,
      "outputs": [
        {
          "output_type": "execute_result",
          "data": {
            "text/html": [
              "<div>\n",
              "<style scoped>\n",
              "    .dataframe tbody tr th:only-of-type {\n",
              "        vertical-align: middle;\n",
              "    }\n",
              "\n",
              "    .dataframe tbody tr th {\n",
              "        vertical-align: top;\n",
              "    }\n",
              "\n",
              "    .dataframe thead th {\n",
              "        text-align: right;\n",
              "    }\n",
              "</style>\n",
              "<table border=\"1\" class=\"dataframe\">\n",
              "  <thead>\n",
              "    <tr style=\"text-align: right;\">\n",
              "      <th></th>\n",
              "      <th>Power (kW)</th>\n",
              "    </tr>\n",
              "  </thead>\n",
              "  <tbody>\n",
              "    <tr>\n",
              "      <th>0</th>\n",
              "      <td>0.0</td>\n",
              "    </tr>\n",
              "    <tr>\n",
              "      <th>1</th>\n",
              "      <td>1032.0</td>\n",
              "    </tr>\n",
              "    <tr>\n",
              "      <th>2</th>\n",
              "      <td>1082.5</td>\n",
              "    </tr>\n",
              "    <tr>\n",
              "      <th>3</th>\n",
              "      <td>1094.5</td>\n",
              "    </tr>\n",
              "    <tr>\n",
              "      <th>4</th>\n",
              "      <td>1175.5</td>\n",
              "    </tr>\n",
              "    <tr>\n",
              "      <th>...</th>\n",
              "      <td>...</td>\n",
              "    </tr>\n",
              "    <tr>\n",
              "      <th>302423</th>\n",
              "      <td>1.5</td>\n",
              "    </tr>\n",
              "    <tr>\n",
              "      <th>302424</th>\n",
              "      <td>0.0</td>\n",
              "    </tr>\n",
              "    <tr>\n",
              "      <th>302425</th>\n",
              "      <td>0.0</td>\n",
              "    </tr>\n",
              "    <tr>\n",
              "      <th>302426</th>\n",
              "      <td>0.0</td>\n",
              "    </tr>\n",
              "    <tr>\n",
              "      <th>302427</th>\n",
              "      <td>0.0</td>\n",
              "    </tr>\n",
              "  </tbody>\n",
              "</table>\n",
              "<p>302428 rows × 1 columns</p>\n",
              "</div>"
            ],
            "text/plain": [
              "        Power (kW)\n",
              "0              0.0\n",
              "1           1032.0\n",
              "2           1082.5\n",
              "3           1094.5\n",
              "4           1175.5\n",
              "...            ...\n",
              "302423         1.5\n",
              "302424         0.0\n",
              "302425         0.0\n",
              "302426         0.0\n",
              "302427         0.0\n",
              "\n",
              "[302428 rows x 1 columns]"
            ]
          },
          "metadata": {
            "tags": []
          },
          "execution_count": 4
        }
      ]
    },
    {
      "cell_type": "markdown",
      "metadata": {
        "id": "uNAXO7YOMfvb",
        "colab_type": "text"
      },
      "source": [
        "At this point, we're going to pull the data out of the Pandas dataframe and into a Numpy array.  The algorithms we're going to use require Numpy arrays.  Fortunately, it is quite easy to convert between the two.\n",
        "\n",
        "As we only have one datastream, we actually only have the labels, or y values, to work with.  To deal with this, we will also create an input vector X that corresponds to the row number in the dataframe above.  We will use a linespace to do this. As the linespace produces floating point numbers rather than integers, we then convert the values to integers."
      ]
    },
    {
      "cell_type": "code",
      "metadata": {
        "id": "VvsIlMXhSXgG",
        "colab_type": "code",
        "colab": {}
      },
      "source": [
        "y_hr = df_y_hr.to_numpy()\n",
        "\n",
        "#Create an input vector of just the values between 0 and 302,427\n",
        "X_hr = np.linspace(0, y_hr.shape[0], y_hr.shape[0]).astype(int)"
      ],
      "execution_count": 5,
      "outputs": []
    },
    {
      "cell_type": "markdown",
      "metadata": {
        "id": "zv6_0vfoOsuj",
        "colab_type": "text"
      },
      "source": [
        "## Forecasting\n",
        "\n",
        "Now that we have the data loaded, we can run a regression algorithm on it to try and forecast future values.  We're going to start with a linear regression from sklearn."
      ]
    },
    {
      "cell_type": "code",
      "metadata": {
        "id": "YhgmFKU5SPoK",
        "colab_type": "code",
        "colab": {
          "base_uri": "https://localhost:8080/",
          "height": 33
        },
        "outputId": "0158e10f-dac9-4575-9061-6ef23c1d4814"
      },
      "source": [
        "model_hr = LinearRegression(fit_intercept=True) #The fit_intercept=True means that \n",
        "                                             #we are not assuming the data is \n",
        "                                             #pre-centered\n",
        "model_hr.fit(X_hr[:, np.newaxis], y_hr) #The np.newaxis is required here because when x \n",
        "                               #was created, it was 1d: shape = (50,). Model.fit \n",
        "                               #requires 2d data. New shape = (50,1)\n"
      ],
      "execution_count": 6,
      "outputs": [
        {
          "output_type": "execute_result",
          "data": {
            "text/plain": [
              "LinearRegression(copy_X=True, fit_intercept=True, n_jobs=None, normalize=False)"
            ]
          },
          "metadata": {
            "tags": []
          },
          "execution_count": 6
        }
      ]
    },
    {
      "cell_type": "markdown",
      "metadata": {
        "id": "RCCEzP7xS-0Y",
        "colab_type": "text"
      },
      "source": [
        "Use the following form to specify how many days worth of data to view and the starting day out of the number.  "
      ]
    },
    {
      "cell_type": "code",
      "metadata": {
        "id": "cPS4FaOJPyq5",
        "colab_type": "code",
        "colab": {},
        "cellView": "form"
      },
      "source": [
        "days_to_view_hr =  10#@param {type:\"integer\"}\n",
        "\n",
        "starting_day_hr = 998 #@param {type:\"slider\", min:1, max:2000, step:1}"
      ],
      "execution_count": 93,
      "outputs": []
    },
    {
      "cell_type": "code",
      "metadata": {
        "id": "js4TNFSxPruY",
        "colab_type": "code",
        "colab": {
          "base_uri": "https://localhost:8080/",
          "height": 297
        },
        "outputId": "4dd470c5-527e-4a4c-cb65-0659a96fc6f2"
      },
      "source": [
        "y_hat_hr = model_hr.predict(X_hr[:, np.newaxis])\n",
        "\n",
        "plt.plot(X_hr, y_hr)\n",
        "plt.plot(X_hr, y_hat_hr);\n",
        "\n",
        "approx_samples_per_day = 145\n",
        "\n",
        "plt.xlim(starting_day_hr*approx_samples_per_day, \n",
        "         starting_day_hr*approx_samples_per_day + days_to_view_hr*approx_samples_per_day)\n",
        "\n",
        "plt.title(\"High resolution energy usage for \" + str(days_to_view_hr) + \" days.\")"
      ],
      "execution_count": 94,
      "outputs": [
        {
          "output_type": "execute_result",
          "data": {
            "text/plain": [
              "Text(0.5, 1.0, 'High resolution energy usage for 10 days.')"
            ]
          },
          "metadata": {
            "tags": []
          },
          "execution_count": 94
        },
        {
          "output_type": "display_data",
          "data": {
            "image/png": "[encoded data removed]",
            "text/plain": [
              "<Figure size 432x288 with 1 Axes>"
            ]
          },
          "metadata": {
            "tags": [],
            "needs_background": "light"
          }
        }
      ]
    },
    {
      "cell_type": "markdown",
      "metadata": {
        "id": "GcWvFTchEGF0",
        "colab_type": "text"
      },
      "source": [
        "Let's see what the equation of this prediction line is."
      ]
    },
    {
      "cell_type": "code",
      "metadata": {
        "id": "9DJECKMzEJvF",
        "colab_type": "code",
        "colab": {
          "base_uri": "https://localhost:8080/",
          "height": 84
        },
        "outputId": "a82084cc-dc6b-4533-cde4-3f89cf5db599"
      },
      "source": [
        "coefficients_hr = model_hr.coef_\n",
        "slope_hr = coefficients_hr[0][0]\n",
        "intercept_hr = model_hr.intercept_[0]\n",
        "\n",
        "print(\"f(x) = \", round(slope_hr, 6), \"* x + \", round(intercept_hr, 2))\n",
        "years_of_data_hr = y_hr.shape[0] / 365 / approx_samples_per_day\n",
        "\n",
        "degredation_hr = str(round(slope_hr * 100, 4))\n",
        "print(\"Solar panel degredation for all time = \", degredation_hr, \"%\")\n",
        "degredation_per_year_hr = str(round(slope_hr * 100 / years_of_data_hr, 4))\n",
        "print(\"Solar panel degredation per year over time = \", degredation_per_year_hr, \"%\")"
      ],
      "execution_count": 106,
      "outputs": [
        {
          "output_type": "stream",
          "text": [
            "f(x) =  -5.7e-05 * x +  969.13\n",
            "Solar panel degredation for all time =  -0.0057 %\n",
            "Solar panel degredation per year over time =  -0.001 %\n",
            "5.714274917335852\n"
          ],
          "name": "stdout"
        }
      ]
    },
    {
      "cell_type": "markdown",
      "metadata": {
        "id": "SSfTDb9jYXBX",
        "colab_type": "text"
      },
      "source": [
        "Notice that this fitted line is decreasing very slowly.  In fact it works out to approximately 0.001% decrease per year.  This is probably due to two factors:\n",
        "* Solar panels degrade over time, typically less than 1% per year, though this seems especially low.\n",
        "* Having start and end dates at different times of the year will also effect this value.  For example, if the start date is the middle of summer and the end date is the middle of winter, there will be an inherant downwards bias.\n",
        "\n"
      ]
    },
    {
      "cell_type": "markdown",
      "metadata": {
        "id": "2f0BAVeOduhO",
        "colab_type": "text"
      },
      "source": [
        "## Solar Panel Degredation\n",
        "\n",
        "To identify the actual solar panel degration, we need to choose a time period that starts and stops on the same day of the year.  We know we have more than five years of data total, so we're going to extract excactly 5 years from it.  Because each day's worth of data can have a different number of data samples, this was done by hand using trial and error. The five years of data begins on January 1st, 2015 and ends on December 31th, 2019.\n",
        "\n",
        "We need to fit a new line to this adjusted datset."
      ]
    },
    {
      "cell_type": "code",
      "metadata": {
        "id": "Wb6pRQwfiRjF",
        "colab_type": "code",
        "colab": {
          "base_uri": "https://localhost:8080/",
          "height": 404
        },
        "outputId": "788fe173-2cac-4998-ed88-9ba1eb583e36"
      },
      "source": [
        "df_hr.loc[11759: 279574]"
      ],
      "execution_count": 60,
      "outputs": [
        {
          "output_type": "execute_result",
          "data": {
            "text/html": [
              "<div>\n",
              "<style scoped>\n",
              "    .dataframe tbody tr th:only-of-type {\n",
              "        vertical-align: middle;\n",
              "    }\n",
              "\n",
              "    .dataframe tbody tr th {\n",
              "        vertical-align: top;\n",
              "    }\n",
              "\n",
              "    .dataframe thead th {\n",
              "        text-align: right;\n",
              "    }\n",
              "</style>\n",
              "<table border=\"1\" class=\"dataframe\">\n",
              "  <thead>\n",
              "    <tr style=\"text-align: right;\">\n",
              "      <th></th>\n",
              "      <th>Date</th>\n",
              "      <th>Power (kW)</th>\n",
              "    </tr>\n",
              "  </thead>\n",
              "  <tbody>\n",
              "    <tr>\n",
              "      <th>11759</th>\n",
              "      <td>1/1/2015 6:55</td>\n",
              "      <td>0.0</td>\n",
              "    </tr>\n",
              "    <tr>\n",
              "      <th>11760</th>\n",
              "      <td>1/1/2015 7:00</td>\n",
              "      <td>0.0</td>\n",
              "    </tr>\n",
              "    <tr>\n",
              "      <th>11761</th>\n",
              "      <td>1/1/2015 7:05</td>\n",
              "      <td>0.0</td>\n",
              "    </tr>\n",
              "    <tr>\n",
              "      <th>11762</th>\n",
              "      <td>1/1/2015 7:10</td>\n",
              "      <td>0.0</td>\n",
              "    </tr>\n",
              "    <tr>\n",
              "      <th>11763</th>\n",
              "      <td>1/1/2015 7:15</td>\n",
              "      <td>21.0</td>\n",
              "    </tr>\n",
              "    <tr>\n",
              "      <th>...</th>\n",
              "      <td>...</td>\n",
              "      <td>...</td>\n",
              "    </tr>\n",
              "    <tr>\n",
              "      <th>279570</th>\n",
              "      <td>12/31/2019 16:39</td>\n",
              "      <td>0.0</td>\n",
              "    </tr>\n",
              "    <tr>\n",
              "      <th>279571</th>\n",
              "      <td>12/31/2019 16:44</td>\n",
              "      <td>0.0</td>\n",
              "    </tr>\n",
              "    <tr>\n",
              "      <th>279572</th>\n",
              "      <td>12/31/2019 16:46</td>\n",
              "      <td>0.0</td>\n",
              "    </tr>\n",
              "    <tr>\n",
              "      <th>279573</th>\n",
              "      <td>12/31/2019 16:51</td>\n",
              "      <td>0.0</td>\n",
              "    </tr>\n",
              "    <tr>\n",
              "      <th>279574</th>\n",
              "      <td>12/31/2019 16:52</td>\n",
              "      <td>0.0</td>\n",
              "    </tr>\n",
              "  </tbody>\n",
              "</table>\n",
              "<p>267816 rows × 2 columns</p>\n",
              "</div>"
            ],
            "text/plain": [
              "                    Date  Power (kW)\n",
              "11759      1/1/2015 6:55         0.0\n",
              "11760      1/1/2015 7:00         0.0\n",
              "11761      1/1/2015 7:05         0.0\n",
              "11762      1/1/2015 7:10         0.0\n",
              "11763      1/1/2015 7:15        21.0\n",
              "...                  ...         ...\n",
              "279570  12/31/2019 16:39         0.0\n",
              "279571  12/31/2019 16:44         0.0\n",
              "279572  12/31/2019 16:46         0.0\n",
              "279573  12/31/2019 16:51         0.0\n",
              "279574  12/31/2019 16:52         0.0\n",
              "\n",
              "[267816 rows x 2 columns]"
            ]
          },
          "metadata": {
            "tags": []
          },
          "execution_count": 60
        }
      ]
    },
    {
      "cell_type": "code",
      "metadata": {
        "id": "MeFeeSabac3o",
        "colab_type": "code",
        "colab": {
          "base_uri": "https://localhost:8080/",
          "height": 50
        },
        "outputId": "0c56645b-d0f0-4240-d7c9-8d30bd0a2147"
      },
      "source": [
        "y_five_years_hr = df_hr.drop(columns=['Date']).loc[11759: 279574].to_numpy()\n",
        "X_five_years_hr = np.linspace(0, y_five_years_hr.shape[0], y_five_years_hr.shape[0]).astype(int)\n",
        "\n",
        "model_five_years_hr = LinearRegression(fit_intercept=True)\n",
        "model_five_years_hr.fit(X_five_years_hr[:, np.newaxis], y_five_years_hr)\n",
        "\n",
        "five_year_coefficients_hr = model_five_years_hr.coef_\n",
        "five_year_slope_hr = five_year_coefficients_hr[0][0]\n",
        "five_year_intercept_hr = model_five_years_hr.intercept_[0]\n",
        "\n",
        "print(\"The line that best fits this five years of data is:\")\n",
        "print(\"f(x) = \", round(five_year_slope_hr, 4), \"* x + \", round(five_year_intercept_hr, 2))"
      ],
      "execution_count": 109,
      "outputs": [
        {
          "output_type": "stream",
          "text": [
            "The line that best fits this five years of data is:\n",
            "f(x) =  -0.0003 * x +  1015.42\n"
          ],
          "name": "stdout"
        }
      ]
    },
    {
      "cell_type": "markdown",
      "metadata": {
        "id": "MSZhB0olriZ_",
        "colab_type": "text"
      },
      "source": [
        "Notice that this is a steeper slope than we found before we accounted for the start and end days.  Using this, we can correctly calculate the percentage degradation over time. This degredation is still very small at less than 0.01% per year."
      ]
    },
    {
      "cell_type": "code",
      "metadata": {
        "id": "3XFHC-oIaAz9",
        "colab_type": "code",
        "colab": {
          "base_uri": "https://localhost:8080/",
          "height": 50
        },
        "outputId": "1266bde5-c2ce-4680-9aec-40f007963e20"
      },
      "source": [
        "degredation_five_years_hr = str(round(five_year_slope_hr * 100, 4))\n",
        "print(\"Solar panel degredation for all time = \", degredation_five_years_hr, \"%\")\n",
        "\n",
        "degredation_per_year_hr = str(round(five_year_slope_hr * 100 / 5, 4))\n",
        "print(\"Solar panel degredation per year over time = \", degredation_per_year_hr, \"%\")"
      ],
      "execution_count": 101,
      "outputs": [
        {
          "output_type": "stream",
          "text": [
            "Solar panel degredation for all time =  -0.0306 %\n",
            "Solar panel degredation per year over time =  -0.0061 %\n"
          ],
          "name": "stdout"
        }
      ]
    },
    {
      "cell_type": "markdown",
      "metadata": {
        "id": "KYKmx0pXv7qw",
        "colab_type": "text"
      },
      "source": [
        "Even though this model does not fit the minute by minute data effectively, it is still able to give us a general idea of how the solar panels are performing over time.  In this case, we see an expected slight degredation over time, though it is perhaps less than expected due to the manufacturer claims of less than 1% per year.  The actual degredation of 0.006% a year is substantially lower than this guarentee.\n",
        "\n",
        "To actually fit this prediction minute by minute, a deep learning algorithm called a Recurrent Neural Network (RNN) or an Long Short-Term Memory Recurrent Neural Network (LSTM) would be required.  Instead, let's look at a problem that linear regression CAN solve.\n"
      ]
    },
    {
      "cell_type": "markdown",
      "metadata": {
        "id": "tpy8A32YTb45",
        "colab_type": "text"
      },
      "source": [
        "#Low Resolution\n",
        "\n",
        "Instead of looking at the daily cycles of energy production, here we're going to look just at how much total energy was produced each day.  This will still be cyclical with the seasons, but it will be \"locally stationary\", meaning that over short periods of time (1 to 2 months), the curve will look roughly linear."
      ]
    },
    {
      "cell_type": "markdown",
      "metadata": {
        "id": "o_6MXrb9tms4",
        "colab_type": "text"
      },
      "source": [
        "## Load Data\n",
        "\n",
        "Because the previous dataset ignored the zero production during the night, each day is not going to have the same number of data points.  Summer days will contain more five minute data samples than will the shorter days of winter.\n",
        "\n",
        "To simplify matters, the daily totals have been calculated externally and we will load them in now.  Any dataset with daily total energy production can be used here effectively."
      ]
    },
    {
      "cell_type": "code",
      "metadata": {
        "id": "Ya-IVTrGwpOR",
        "colab_type": "code",
        "colab": {
          "resources": {
            "http://localhost:8080/nbextensions/google.colab/files.js": {
              "data": "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",
              "ok": true,
              "headers": [
                [
                  "content-type",
                  "application/javascript"
                ]
              ],
              "status": 200,
              "status_text": ""
            }
          },
          "base_uri": "https://localhost:8080/",
          "height": 73
        },
        "outputId": "4ce0bc1a-271e-4a7c-acdc-8030355422ce"
      },
      "source": [
        "from google.colab import files\n",
        "uploaded = files.upload() #Load 80929_energy_per_day.csv or other daily total energy summaries"
      ],
      "execution_count": 114,
      "outputs": [
        {
          "output_type": "display_data",
          "data": {
            "text/html": [
              "\n",
              "     <input type=\"file\" id=\"files-a968556d-3585-43ff-83c6-8e60e52c80c1\" name=\"files[]\" multiple disabled\n",
              "        style=\"border:none\" />\n",
              "     <output id=\"result-a968556d-3585-43ff-83c6-8e60e52c80c1\">\n",
              "      Upload widget is only available when the cell has been executed in the\n",
              "      current browser session. Please rerun this cell to enable.\n",
              "      </output>\n",
              "      <script src=\"/nbextensions/google.colab/files.js\"></script> "
            ],
            "text/plain": [
              "<IPython.core.display.HTML object>"
            ]
          },
          "metadata": {
            "tags": []
          }
        },
        {
          "output_type": "stream",
          "text": [
            "Saving 80929_energy_per_day.csv to 80929_energy_per_day (1).csv\n"
          ],
          "name": "stdout"
        }
      ]
    },
    {
      "cell_type": "code",
      "metadata": {
        "id": "zcgUgbT2GtDR",
        "colab_type": "code",
        "colab": {
          "base_uri": "https://localhost:8080/",
          "height": 404
        },
        "outputId": "fbc3615f-a247-4fca-8685-4f38c8230400"
      },
      "source": [
        "data_path_totals = '/content/80929_energy_per_day.csv'\n",
        "df_daily = pd.read_csv(data_path_totals, delimiter=',')  #here we're reading our csv file into a Pandas DataFrame\n",
        "df_daily"
      ],
      "execution_count": 115,
      "outputs": [
        {
          "output_type": "execute_result",
          "data": {
            "text/html": [
              "<div>\n",
              "<style scoped>\n",
              "    .dataframe tbody tr th:only-of-type {\n",
              "        vertical-align: middle;\n",
              "    }\n",
              "\n",
              "    .dataframe tbody tr th {\n",
              "        vertical-align: top;\n",
              "    }\n",
              "\n",
              "    .dataframe thead th {\n",
              "        text-align: right;\n",
              "    }\n",
              "</style>\n",
              "<table border=\"1\" class=\"dataframe\">\n",
              "  <thead>\n",
              "    <tr style=\"text-align: right;\">\n",
              "      <th></th>\n",
              "      <th>Date</th>\n",
              "      <th>9029_Energy_Per_Day</th>\n",
              "    </tr>\n",
              "  </thead>\n",
              "  <tbody>\n",
              "    <tr>\n",
              "      <th>0</th>\n",
              "      <td>9/30/2014</td>\n",
              "      <td>12.533417</td>\n",
              "    </tr>\n",
              "    <tr>\n",
              "      <th>1</th>\n",
              "      <td>10/1/2014</td>\n",
              "      <td>14.201500</td>\n",
              "    </tr>\n",
              "    <tr>\n",
              "      <th>2</th>\n",
              "      <td>10/2/2014</td>\n",
              "      <td>13.026417</td>\n",
              "    </tr>\n",
              "    <tr>\n",
              "      <th>3</th>\n",
              "      <td>10/3/2014</td>\n",
              "      <td>13.852000</td>\n",
              "    </tr>\n",
              "    <tr>\n",
              "      <th>4</th>\n",
              "      <td>10/4/2014</td>\n",
              "      <td>13.651958</td>\n",
              "    </tr>\n",
              "    <tr>\n",
              "      <th>...</th>\n",
              "      <td>...</td>\n",
              "      <td>...</td>\n",
              "    </tr>\n",
              "    <tr>\n",
              "      <th>2070</th>\n",
              "      <td>5/31/2020</td>\n",
              "      <td>19.063875</td>\n",
              "    </tr>\n",
              "    <tr>\n",
              "      <th>2071</th>\n",
              "      <td>6/1/2020</td>\n",
              "      <td>18.135750</td>\n",
              "    </tr>\n",
              "    <tr>\n",
              "      <th>2072</th>\n",
              "      <td>6/2/2020</td>\n",
              "      <td>16.941333</td>\n",
              "    </tr>\n",
              "    <tr>\n",
              "      <th>2073</th>\n",
              "      <td>6/3/2020</td>\n",
              "      <td>18.265833</td>\n",
              "    </tr>\n",
              "    <tr>\n",
              "      <th>2074</th>\n",
              "      <td>6/4/2020</td>\n",
              "      <td>18.367833</td>\n",
              "    </tr>\n",
              "  </tbody>\n",
              "</table>\n",
              "<p>2075 rows × 2 columns</p>\n",
              "</div>"
            ],
            "text/plain": [
              "           Date  9029_Energy_Per_Day\n",
              "0     9/30/2014            12.533417\n",
              "1     10/1/2014            14.201500\n",
              "2     10/2/2014            13.026417\n",
              "3     10/3/2014            13.852000\n",
              "4     10/4/2014            13.651958\n",
              "...         ...                  ...\n",
              "2070  5/31/2020            19.063875\n",
              "2071   6/1/2020            18.135750\n",
              "2072   6/2/2020            16.941333\n",
              "2073   6/3/2020            18.265833\n",
              "2074   6/4/2020            18.367833\n",
              "\n",
              "[2075 rows x 2 columns]"
            ]
          },
          "metadata": {
            "tags": []
          },
          "execution_count": 115
        }
      ]
    },
    {
      "cell_type": "markdown",
      "metadata": {
        "id": "LzE1I5Usueot",
        "colab_type": "text"
      },
      "source": [
        "## Clean Data\n",
        "\n",
        "At this point, I'm going to remove the date/time information and only retain the energy signal.  This date/time information may be useful in other applications in the future, but for now we don't need it."
      ]
    },
    {
      "cell_type": "code",
      "metadata": {
        "id": "kmdvSnynuwDI",
        "colab_type": "code",
        "colab": {
          "base_uri": "https://localhost:8080/",
          "height": 404
        },
        "outputId": "abaa5c49-ee29-4c93-bde9-e9e30976f92a"
      },
      "source": [
        "df_y_daily = df_daily.drop(columns=['Date'])\n",
        "df_y_daily"
      ],
      "execution_count": 116,
      "outputs": [
        {
          "output_type": "execute_result",
          "data": {
            "text/html": [
              "<div>\n",
              "<style scoped>\n",
              "    .dataframe tbody tr th:only-of-type {\n",
              "        vertical-align: middle;\n",
              "    }\n",
              "\n",
              "    .dataframe tbody tr th {\n",
              "        vertical-align: top;\n",
              "    }\n",
              "\n",
              "    .dataframe thead th {\n",
              "        text-align: right;\n",
              "    }\n",
              "</style>\n",
              "<table border=\"1\" class=\"dataframe\">\n",
              "  <thead>\n",
              "    <tr style=\"text-align: right;\">\n",
              "      <th></th>\n",
              "      <th>9029_Energy_Per_Day</th>\n",
              "    </tr>\n",
              "  </thead>\n",
              "  <tbody>\n",
              "    <tr>\n",
              "      <th>0</th>\n",
              "      <td>12.533417</td>\n",
              "    </tr>\n",
              "    <tr>\n",
              "      <th>1</th>\n",
              "      <td>14.201500</td>\n",
              "    </tr>\n",
              "    <tr>\n",
              "      <th>2</th>\n",
              "      <td>13.026417</td>\n",
              "    </tr>\n",
              "    <tr>\n",
              "      <th>3</th>\n",
              "      <td>13.852000</td>\n",
              "    </tr>\n",
              "    <tr>\n",
              "      <th>4</th>\n",
              "      <td>13.651958</td>\n",
              "    </tr>\n",
              "    <tr>\n",
              "      <th>...</th>\n",
              "      <td>...</td>\n",
              "    </tr>\n",
              "    <tr>\n",
              "      <th>2070</th>\n",
              "      <td>19.063875</td>\n",
              "    </tr>\n",
              "    <tr>\n",
              "      <th>2071</th>\n",
              "      <td>18.135750</td>\n",
              "    </tr>\n",
              "    <tr>\n",
              "      <th>2072</th>\n",
              "      <td>16.941333</td>\n",
              "    </tr>\n",
              "    <tr>\n",
              "      <th>2073</th>\n",
              "      <td>18.265833</td>\n",
              "    </tr>\n",
              "    <tr>\n",
              "      <th>2074</th>\n",
              "      <td>18.367833</td>\n",
              "    </tr>\n",
              "  </tbody>\n",
              "</table>\n",
              "<p>2075 rows × 1 columns</p>\n",
              "</div>"
            ],
            "text/plain": [
              "      9029_Energy_Per_Day\n",
              "0               12.533417\n",
              "1               14.201500\n",
              "2               13.026417\n",
              "3               13.852000\n",
              "4               13.651958\n",
              "...                   ...\n",
              "2070            19.063875\n",
              "2071            18.135750\n",
              "2072            16.941333\n",
              "2073            18.265833\n",
              "2074            18.367833\n",
              "\n",
              "[2075 rows x 1 columns]"
            ]
          },
          "metadata": {
            "tags": []
          },
          "execution_count": 116
        }
      ]
    },
    {
      "cell_type": "markdown",
      "metadata": {
        "id": "sTpdGOA9vfCR",
        "colab_type": "text"
      },
      "source": [
        "As we did above, we're going to pull the data out of the Pandas dataframe and into a Numpy array.  The algorithms we're going to use require Numpy arrays.  Fortunately, it is quite easy to convert between the two.\n",
        "\n",
        "As we only have one datastream, we actually only have the labels, or y values, to work with.  To deal with this, we will also create an input vector X that corresponds to the row number in the dataframe above.  We will use a linespace to do this. As the linespace produces floating point numbers rather than integers, we then convert the values to integers."
      ]
    },
    {
      "cell_type": "code",
      "metadata": {
        "id": "grN4k98Rv28d",
        "colab_type": "code",
        "colab": {}
      },
      "source": [
        "y_daily = df_y_daily.to_numpy()\n",
        "X_daily = np.linspace(0, y_daily.shape[0], y_daily.shape[0])"
      ],
      "execution_count": 117,
      "outputs": []
    },
    {
      "cell_type": "markdown",
      "metadata": {
        "id": "vw5hTDwDwJXw",
        "colab_type": "text"
      },
      "source": [
        "Let's now take a look at this data.  \n",
        "* If you make the days_to_view_daily large, you'll see that the data is very cyclic due to the seasons.  \n",
        "* If you keep it smaller, from a couple of weeks to a couple of months, you'll see that it looks more like a jagged line - the downward spikes correspond to cloudy days."
      ]
    },
    {
      "cell_type": "code",
      "metadata": {
        "id": "x0zy9DCcwM-x",
        "colab_type": "code",
        "colab": {},
        "cellView": "form"
      },
      "source": [
        "days_to_view_daily =  60#@param {type:\"integer\"}\n",
        "\n",
        "starting_day_daily = 910 #@param {type:\"slider\", min:1, max:2000, step:1}"
      ],
      "execution_count": 136,
      "outputs": []
    },
    {
      "cell_type": "code",
      "metadata": {
        "id": "DJ7XUB8uHszR",
        "colab_type": "code",
        "colab": {
          "base_uri": "https://localhost:8080/",
          "height": 297
        },
        "outputId": "322702ce-e7be-496a-cfa2-94a46a03a02c"
      },
      "source": [
        "plt.plot(X_daily, y_daily)\n",
        "plt.xlim(starting_day_daily, starting_day_daily + days_to_view_daily)\n",
        "\n",
        "title = 'Energy daily totals for ', days_to_view_daily, ' days.'\n",
        "plt.title(title)"
      ],
      "execution_count": 137,
      "outputs": [
        {
          "output_type": "execute_result",
          "data": {
            "text/plain": [
              "Text(0.5, 1.0, \"('Energy daily totals for ', 60, ' days.')\")"
            ]
          },
          "metadata": {
            "tags": []
          },
          "execution_count": 137
        },
        {
          "output_type": "display_data",
          "data": {
            "image/png": "[encoded data removed]",
            "text/plain": [
              "<Figure size 432x288 with 1 Axes>"
            ]
          },
          "metadata": {
            "tags": [],
            "needs_background": "light"
          }
        }
      ]
    },
    {
      "cell_type": "markdown",
      "metadata": {
        "id": "p0M0JIJeJ7fn",
        "colab_type": "text"
      },
      "source": [
        "## Linear Regression Forecasting\n",
        "\n",
        "Now that this short-term data looks more linear, let's use a linear regression over a local area that won't change too much over time."
      ]
    },
    {
      "cell_type": "code",
      "metadata": {
        "id": "OhNyAEqRx_cj",
        "colab_type": "code",
        "colab": {},
        "cellView": "form"
      },
      "source": [
        "days_to_view_daily =  60#@param {type:\"integer\"}\n",
        "\n",
        "starting_day_daily = 1 #@param {type:\"slider\", min:1, max:2000, step:1}\n",
        "\n",
        "days_to_predict = 5 #@param {type:\"integer\"}"
      ],
      "execution_count": 159,
      "outputs": []
    },
    {
      "cell_type": "markdown",
      "metadata": {
        "id": "3G-2CCv7zka0",
        "colab_type": "text"
      },
      "source": [
        "### Create Train/Validation/Test Sets\n",
        "\n",
        "Because we're performing regression, there are two ways to divide our data:\n",
        "1. We could randomly select 70% of the data points to be in the training set, 15% to be in the validation set, and the remaining 15% to be in the test set.  These sets will therefore be completely overlapping, and only scattered points would be predicted and compared.\n",
        "2. We could train on the first 70% of the dataset, validate on the next 15%, and test on the final 15%.\n",
        "\n",
        "Both these techniques are used in regression problems, but because our data is sequential and has an order, we're going to use method 2.  However, in this case we are specifying the number of days to train on (days_to_view_daily) and the number of days to test on (days_to_predict) so we will only split up the training days into a train/validation set."
      ]
    },
    {
      "cell_type": "code",
      "metadata": {
        "id": "lPXwexOF0fSh",
        "colab_type": "code",
        "colab": {}
      },
      "source": [
        "#Training set\n",
        "X_local_train = X_daily[:, np.newaxis][starting_day_daily:starting_day_daily + \n",
        "                                       int(0.7 * days_to_view_daily)]\n",
        "y_local_train = y_daily[starting_day_daily:starting_day_daily + \n",
        "                        int(0.7 * days_to_view_daily)]\n",
        "\n",
        "#Validation set\n",
        "X_local_validate = X_daily[:, np.newaxis][starting_day_daily + \n",
        "                                       int(0.7 * days_to_view_daily):\n",
        "                                       starting_day_daily + \n",
        "                                       days_to_view_daily]\n",
        "y_local_validate = y_daily[starting_day_daily + \n",
        "                           int(0.7 * days_to_view_daily):\n",
        "                           starting_day_daily + days_to_view_daily]                                      \n",
        "\n",
        "#Test set\n",
        "X_local_test = X_daily[:, np.newaxis][starting_day_daily + days_to_view_daily: \n",
        "                                      starting_day_daily + days_to_view_daily + \n",
        "                                      days_to_predict]\n",
        "y_local_test = y_daily[starting_day_daily + days_to_view_daily: \n",
        "                       starting_day_daily + days_to_view_daily + \n",
        "                       days_to_predict]"
      ],
      "execution_count": 160,
      "outputs": []
    },
    {
      "cell_type": "code",
      "metadata": {
        "id": "cDRhLNZd6oi7",
        "colab_type": "code",
        "colab": {
          "base_uri": "https://localhost:8080/",
          "height": 150
        },
        "outputId": "7705ad33-89fd-4e50-decd-0078ef6e8326"
      },
      "source": [
        "print(\"X_local_train.shape\", X_local_train.shape)\n",
        "print(\"y_local_train.shape\", y_local_train.shape)\n",
        "print(\"\\nX_local_validate.shape\", X_local_validate.shape)\n",
        "print(\"y_local_validate.shape\", y_local_validate.shape)\n",
        "print(\"\\nX_local_test.shape\", X_local_test.shape)\n",
        "print(\"y_local_test.shape\", y_local_test.shape)"
      ],
      "execution_count": 161,
      "outputs": [
        {
          "output_type": "stream",
          "text": [
            "X_local_train.shape (42, 1)\n",
            "y_local_train.shape (42, 1)\n",
            "\n",
            "X_local_validate.shape (18, 1)\n",
            "y_local_validate.shape (18, 1)\n",
            "\n",
            "X_local_test.shape (5, 1)\n",
            "y_local_test.shape (5, 1)\n"
          ],
          "name": "stdout"
        }
      ]
    },
    {
      "cell_type": "markdown",
      "metadata": {
        "id": "4hzBe-ft2gXB",
        "colab_type": "text"
      },
      "source": [
        "### Tune Hyperparameters\n",
        "\n",
        "We're going to use polynomial features to find the best fit to our local, relatively stationary data.  The polynomial features will help with the slight seasonal changes that will still be present even on small amounts of data. "
      ]
    },
    {
      "cell_type": "code",
      "metadata": {
        "id": "-2xKwd2iIt5-",
        "colab_type": "code",
        "colab": {
          "base_uri": "https://localhost:8080/",
          "height": 184
        },
        "outputId": "a71dc387-570b-44ed-8217-d3d610ca9c06"
      },
      "source": [
        "for i in range(10):\n",
        "    model_daily = make_pipeline(PolynomialFeatures(i), LinearRegression())    \n",
        "    model_daily.fit(X_local_train, y_local_train)  \n",
        "    y_hat_daily_val = model_daily.predict(X_local_validate)\n",
        "\n",
        "    MSE_val_ave = mean_squared_error(y_local_validate, y_hat_daily_val) / X_local_validate.shape[0]\n",
        "    print(i, ' poly features -> daily MSE for Validation = ', MSE_val_ave)"
      ],
      "execution_count": 164,
      "outputs": [
        {
          "output_type": "stream",
          "text": [
            "0  poly features -> daily MSE for Validation =  0.9838115441217692\n",
            "1  poly features -> daily MSE for Validation =  0.14362125790310862\n",
            "2  poly features -> daily MSE for Validation =  0.6289241067836195\n",
            "3  poly features -> daily MSE for Validation =  2.792402058396281\n",
            "4  poly features -> daily MSE for Validation =  1.2870867394546572\n",
            "5  poly features -> daily MSE for Validation =  0.9014235931950204\n",
            "6  poly features -> daily MSE for Validation =  1130.5488489357876\n",
            "7  poly features -> daily MSE for Validation =  34842.60858992869\n",
            "8  poly features -> daily MSE for Validation =  16804.026548061058\n",
            "9  poly features -> daily MSE for Validation =  1585636.226522808\n"
          ],
          "name": "stdout"
        }
      ]
    },
    {
      "cell_type": "markdown",
      "metadata": {
        "id": "Jl-Cuzj-BC40",
        "colab_type": "text"
      },
      "source": [
        "### Perform Final Tests\n",
        "The mean squared error (MSE) for the validation set is going to depend on the forecasting parameters you set above.  Select whatever number of polynomial features works best for the data you selected and train a final model using both the training and validation sets."
      ]
    },
    {
      "cell_type": "code",
      "metadata": {
        "id": "8dh81AXPBd0i",
        "colab_type": "code",
        "colab": {
          "base_uri": "https://localhost:8080/",
          "height": 213
        },
        "outputId": "9e79f261-c180-4590-9256-a8b42080b56d"
      },
      "source": [
        "#Combine our original training and validation sets into one final set for our \n",
        "#final model.\n",
        "X_local_final_train = np.concatenate((X_local_train, X_local_validate), axis=0)\n",
        "y_local_final_train = np.concatenate((y_local_train, y_local_validate), axis=0)\n",
        "\n",
        "#Retrain the model\n",
        "model_local_final = make_pipeline(PolynomialFeatures(2), LinearRegression())    \n",
        "model_local_final.fit(X_local_final_train, y_local_final_train)  \n",
        "y_hat_daily_final = model_local_final.predict(X_local_test)\n",
        "\n",
        "MSE_test_ave = mean_squared_error(y_local_test, y_hat_daily_final) / days_to_predict\n",
        "print('Daily MSE for Test Set = ', MSE_test_ave)\n",
        "\n",
        "prediction = y_hat_daily_final \n",
        "real = y_local_test \n",
        "\n",
        "predictions = pd.DataFrame(np.concatenate((real, prediction), axis=1), \n",
        "                           columns={\"Real\", \"Predictions\"})\n",
        "predictions"
      ],
      "execution_count": 201,
      "outputs": [
        {
          "output_type": "stream",
          "text": [
            "Daily MSE for Test Set =  0.02797704370684919\n"
          ],
          "name": "stdout"
        },
        {
          "output_type": "execute_result",
          "data": {
            "text/html": [
              "<div>\n",
              "<style scoped>\n",
              "    .dataframe tbody tr th:only-of-type {\n",
              "        vertical-align: middle;\n",
              "    }\n",
              "\n",
              "    .dataframe tbody tr th {\n",
              "        vertical-align: top;\n",
              "    }\n",
              "\n",
              "    .dataframe thead th {\n",
              "        text-align: right;\n",
              "    }\n",
              "</style>\n",
              "<table border=\"1\" class=\"dataframe\">\n",
              "  <thead>\n",
              "    <tr style=\"text-align: right;\">\n",
              "      <th></th>\n",
              "      <th>Real</th>\n",
              "      <th>Predictions</th>\n",
              "    </tr>\n",
              "  </thead>\n",
              "  <tbody>\n",
              "    <tr>\n",
              "      <th>0</th>\n",
              "      <td>6.236292</td>\n",
              "      <td>5.469586</td>\n",
              "    </tr>\n",
              "    <tr>\n",
              "      <th>1</th>\n",
              "      <td>5.582833</td>\n",
              "      <td>5.458672</td>\n",
              "    </tr>\n",
              "    <tr>\n",
              "      <th>2</th>\n",
              "      <td>5.595917</td>\n",
              "      <td>5.452048</td>\n",
              "    </tr>\n",
              "    <tr>\n",
              "      <th>3</th>\n",
              "      <td>5.190833</td>\n",
              "      <td>5.449715</td>\n",
              "    </tr>\n",
              "    <tr>\n",
              "      <th>4</th>\n",
              "      <td>5.543625</td>\n",
              "      <td>5.451671</td>\n",
              "    </tr>\n",
              "  </tbody>\n",
              "</table>\n",
              "</div>"
            ],
            "text/plain": [
              "       Real  Predictions\n",
              "0  6.236292     5.469586\n",
              "1  5.582833     5.458672\n",
              "2  5.595917     5.452048\n",
              "3  5.190833     5.449715\n",
              "4  5.543625     5.451671"
            ]
          },
          "metadata": {
            "tags": []
          },
          "execution_count": 201
        }
      ]
    },
    {
      "cell_type": "markdown",
      "metadata": {
        "id": "zbnr2Nf68b6Y",
        "colab_type": "text"
      },
      "source": [
        "### Visualization\n",
        "\n",
        "Once we have our final model and predictions, we can visualize our model.  Here, we're going to predict values for the entire set of data to assist in visualization."
      ]
    },
    {
      "cell_type": "code",
      "metadata": {
        "id": "HFE6mTVRGKHV",
        "colab_type": "code",
        "colab": {},
        "cellView": "form"
      },
      "source": [
        "days_to_view = 'All Data' #@param [\"All Data\", \"Only Validation and Test\", \"Only Test\"]"
      ],
      "execution_count": 191,
      "outputs": []
    },
    {
      "cell_type": "code",
      "metadata": {
        "id": "eSt0MOml8P-r",
        "colab_type": "code",
        "colab": {
          "base_uri": "https://localhost:8080/",
          "height": 297
        },
        "outputId": "4fd29471-ce0b-442f-e9f9-3cfeda4044f2"
      },
      "source": [
        "X_local_all = np.concatenate((X_local_final_train, X_local_test), axis=0)\n",
        "y_local_all = np.concatenate((y_local_final_train, y_local_test), axis=0)\n",
        "\n",
        "y_hat_all = model_local_final.predict(X_local_all)\n",
        "\n",
        "plt.plot(X_local_all, y_local_all)\n",
        "plt.plot(X_local_all, y_hat_all)\n",
        "plt.plot(X_local_test, y_hat_daily_final)\n",
        "\n",
        "if days_to_view == \"All Data\":\n",
        "    plt.xlim(starting_day_daily, \n",
        "             starting_day_daily + days_to_view_daily + days_to_predict)\n",
        "elif days_to_view == \"Only Validation and Test\":\n",
        "    plt.xlim(starting_day_daily + int(0.7*days_to_view_daily), \n",
        "             starting_day_daily + days_to_view_daily + days_to_predict)\n",
        "elif days_to_view == \"Only Test\":\n",
        "    plt.xlim(starting_day_daily + days_to_view_daily, \n",
        "             starting_day_daily + days_to_view_daily + days_to_predict)\n",
        "\n",
        "plt.title(days_to_view)"
      ],
      "execution_count": 219,
      "outputs": [
        {
          "output_type": "execute_result",
          "data": {
            "text/plain": [
              "Text(0.5, 1.0, 'All Data')"
            ]
          },
          "metadata": {
            "tags": []
          },
          "execution_count": 219
        },
        {
          "output_type": "display_data",
          "data": {
            "image/png": "[encoded data removed]",
            "text/plain": [
              "<Figure size 432x288 with 1 Axes>"
            ]
          },
          "metadata": {
            "tags": [],
            "needs_background": "light"
          }
        }
      ]
    },
    {
      "cell_type": "markdown",
      "metadata": {
        "id": "wdriOWDyK5Wa",
        "colab_type": "text"
      },
      "source": [
        "## Neural Network (Multi-layer Preceptrons) Forecasting\n",
        "\n",
        "Multi-layer Preceptrons are shallow neural networks (as opposed to deep learning networks).  This means that they usually only have a couple of hidden layers.  \n",
        "\n",
        "These networks generally have the following structure:\n",
        "\n",
        "\n",
        "![picture](https://www.tutorialspoint.com/tensorflow/images/multi_layer_perceptron.jpg)\n",
        "\n",
        "We will use the same data that from the linear regression section above."
      ]
    },
    {
      "cell_type": "markdown",
      "metadata": {
        "id": "_D61Qq1hLnFf",
        "colab_type": "text"
      },
      "source": [
        "### Tune Hyperparameters\n",
        "\n",
        "We're definitely going to have to do some hyperparameter tuning on this - neural nets have more hyperparameters than other methods.\n",
        "\n",
        "Here, our hyperparameters consist of:\n",
        "* The number of hidden layers\n",
        "* The number of hidden nodes in each hidden layer\n",
        "* The activation function which can be identity’, ‘logistic’, ‘tanh’, or ‘relu’ ('relu' is fairly standard).  See the documentation for more details.\n",
        "* The type of solver which can be ‘lbfgs’, ‘sgd’, or ‘adam’.  'sgd' is standard gradiant descent, while 'adam' is a specialized version of gradient descent ('adam' is fairly standard)\n",
        "* The max_iter specifies the maximum number of iterations.\n",
        "\n",
        "The following code automatically tests a variety of hidden layers and hidden nodes though it uses the standard 'relu' activation function and 'adam' solver.  Feel free to play with these as well."
      ]
    },
    {
      "cell_type": "code",
      "metadata": {
        "id": "m9i0XFR0SdiN",
        "colab_type": "code",
        "colab": {
          "base_uri": "https://localhost:8080/",
          "height": 385
        },
        "outputId": "5695db1f-9d31-4d1d-dc64-202d06980ca8"
      },
      "source": [
        "#Try different hyperparameter values\n",
        "hidden_layers = [25, 50, 100, 150, 200, 250, 300, 350, 400, 450, 500]\n",
        "\n",
        "#Let's try for just one hidden layer\n",
        "for hl in hidden_layers:\n",
        "  NN_model_train = MLPRegressor(hidden_layer_sizes=(hl, ), activation='relu', solver='adam', max_iter=5000)\n",
        "  NN_model_train.fit(X_local_train, y_local_train.ravel())\n",
        "  nn_y_hat_val = NN_model_train.predict(X_local_validate)\n",
        "\n",
        "  nn_MSE_val = mean_squared_error(y_local_validate, nn_y_hat_val) / X_local_validate.shape[0]\n",
        "  print('One hidden layer, ', hl, ' nodes. Ave validation MSE = ', nn_MSE_val)\n",
        "\n",
        "#Now we'll try two hidden layers\n",
        "for hl in hidden_layers:\n",
        "  NN_model_train = MLPRegressor(hidden_layer_sizes=(hl, hl), activation='relu', solver='adam', max_iter=5000)\n",
        "  NN_model_train.fit(X_local_train, y_local_train.ravel())\n",
        "  nn_y_hat_val = NN_model_train.predict(X_local_validate)\n",
        "\n",
        "  nn_MSE_val = mean_squared_error(y_local_validate, nn_y_hat_val) / X_local_validate.shape[0]\n",
        "  print('Two hidden layers, ', hl, ' nodes. Ave validation MSE = ', nn_MSE_val)"
      ],
      "execution_count": 212,
      "outputs": [
        {
          "output_type": "stream",
          "text": [
            "One hidden layer,  25  nodes. Ave validation MSE =  0.16674124465745774\n",
            "One hidden layer,  50  nodes. Ave validation MSE =  0.15385821619104\n",
            "One hidden layer,  100  nodes. Ave validation MSE =  7.011108228049989\n",
            "One hidden layer,  150  nodes. Ave validation MSE =  7.799795720995184\n",
            "One hidden layer,  200  nodes. Ave validation MSE =  0.16691689758011707\n",
            "One hidden layer,  250  nodes. Ave validation MSE =  8.551328296336756\n",
            "One hidden layer,  300  nodes. Ave validation MSE =  9.474569136819841\n",
            "One hidden layer,  350  nodes. Ave validation MSE =  8.825490687900375\n",
            "One hidden layer,  400  nodes. Ave validation MSE =  9.799377288496652\n",
            "One hidden layer,  450  nodes. Ave validation MSE =  7.91827460278281\n",
            "One hidden layer,  500  nodes. Ave validation MSE =  9.434240379517174\n",
            "Two hidden layers,  25  nodes. Ave validation MSE =  0.08672733619555961\n",
            "Two hidden layers,  50  nodes. Ave validation MSE =  9.604873010885326\n",
            "Two hidden layers,  100  nodes. Ave validation MSE =  0.3275980873941379\n",
            "Two hidden layers,  150  nodes. Ave validation MSE =  7.190629618868272\n",
            "Two hidden layers,  200  nodes. Ave validation MSE =  0.204277864493061\n",
            "Two hidden layers,  250  nodes. Ave validation MSE =  0.1750924058132401\n",
            "Two hidden layers,  300  nodes. Ave validation MSE =  0.25318404653538745\n",
            "Two hidden layers,  350  nodes. Ave validation MSE =  0.10659241349347787\n",
            "Two hidden layers,  400  nodes. Ave validation MSE =  0.08630319835133077\n",
            "Two hidden layers,  450  nodes. Ave validation MSE =  0.11144311146284427\n",
            "Two hidden layers,  500  nodes. Ave validation MSE =  0.09725843225214245\n"
          ],
          "name": "stdout"
        }
      ]
    },
    {
      "cell_type": "markdown",
      "metadata": {
        "id": "3DVYEMeOQWVr",
        "colab_type": "text"
      },
      "source": [
        "### Perform Final Tests\n",
        "Depending on what data you selected and the randomized order it was put into for training, you will get different ave validation MSE's than I will.\n",
        "\n",
        "However, I got the lowest MSE with two layers of 400 nodes each."
      ]
    },
    {
      "cell_type": "code",
      "metadata": {
        "id": "VBv7aam7QV72",
        "colab_type": "code",
        "colab": {
          "base_uri": "https://localhost:8080/",
          "height": 213
        },
        "outputId": "3ef36df7-669c-472d-f277-cec025e42d72"
      },
      "source": [
        "X_local_final_train\n",
        "\n",
        "NN_model_final = MLPRegressor(hidden_layer_sizes=(400, 400), activation='relu', solver='adam', max_iter=5000)\n",
        "NN_model_train.fit(X_local_final_train, y_local_final_train.ravel())\n",
        "nn_y_hat_test = NN_model_train.predict(X_local_test)\n",
        "\n",
        "nn_MSE_test = mean_squared_error(y_local_test.ravel(), nn_y_hat_test) / X_local_test.shape[0]\n",
        "print('Final test MSE ', nn_MSE_test)\n",
        "\n",
        "prediction = nn_y_hat_test[:, np.newaxis]\n",
        "real = y_local_test\n",
        "\n",
        "predictions = pd.DataFrame(np.concatenate((real, prediction), axis=1), \n",
        "                           columns={\"Real\", \"Predictions\"})\n",
        "predictions"
      ],
      "execution_count": 218,
      "outputs": [
        {
          "output_type": "stream",
          "text": [
            "Final test MSE  0.3373838043038919\n"
          ],
          "name": "stdout"
        },
        {
          "output_type": "execute_result",
          "data": {
            "text/html": [
              "<div>\n",
              "<style scoped>\n",
              "    .dataframe tbody tr th:only-of-type {\n",
              "        vertical-align: middle;\n",
              "    }\n",
              "\n",
              "    .dataframe tbody tr th {\n",
              "        vertical-align: top;\n",
              "    }\n",
              "\n",
              "    .dataframe thead th {\n",
              "        text-align: right;\n",
              "    }\n",
              "</style>\n",
              "<table border=\"1\" class=\"dataframe\">\n",
              "  <thead>\n",
              "    <tr style=\"text-align: right;\">\n",
              "      <th></th>\n",
              "      <th>Real</th>\n",
              "      <th>Predictions</th>\n",
              "    </tr>\n",
              "  </thead>\n",
              "  <tbody>\n",
              "    <tr>\n",
              "      <th>0</th>\n",
              "      <td>6.236292</td>\n",
              "      <td>4.547483</td>\n",
              "    </tr>\n",
              "    <tr>\n",
              "      <th>1</th>\n",
              "      <td>5.582833</td>\n",
              "      <td>4.451219</td>\n",
              "    </tr>\n",
              "    <tr>\n",
              "      <th>2</th>\n",
              "      <td>5.595917</td>\n",
              "      <td>4.355310</td>\n",
              "    </tr>\n",
              "    <tr>\n",
              "      <th>3</th>\n",
              "      <td>5.190833</td>\n",
              "      <td>4.259896</td>\n",
              "    </tr>\n",
              "    <tr>\n",
              "      <th>4</th>\n",
              "      <td>5.543625</td>\n",
              "      <td>4.166592</td>\n",
              "    </tr>\n",
              "  </tbody>\n",
              "</table>\n",
              "</div>"
            ],
            "text/plain": [
              "       Real  Predictions\n",
              "0  6.236292     4.547483\n",
              "1  5.582833     4.451219\n",
              "2  5.595917     4.355310\n",
              "3  5.190833     4.259896\n",
              "4  5.543625     4.166592"
            ]
          },
          "metadata": {
            "tags": []
          },
          "execution_count": 218
        }
      ]
    },
    {
      "cell_type": "markdown",
      "metadata": {
        "id": "edTqA3VgSiu1",
        "colab_type": "text"
      },
      "source": [
        "### Visualization\n",
        "\n",
        "Once we have our final model and predictions, we can visualize our model.  Here, we're going to predict values for the entire set of data to assist in visualization."
      ]
    },
    {
      "cell_type": "code",
      "metadata": {
        "id": "olGHGteCSE0H",
        "colab_type": "code",
        "colab": {},
        "cellView": "form"
      },
      "source": [
        "days_to_view = 'All Data' #@param [\"All Data\", \"Only Validation and Test\", \"Only Test\"]"
      ],
      "execution_count": 226,
      "outputs": []
    },
    {
      "cell_type": "code",
      "metadata": {
        "id": "9BeXoj9gStWv",
        "colab_type": "code",
        "colab": {
          "base_uri": "https://localhost:8080/",
          "height": 265
        },
        "outputId": "c444e20d-c567-484b-dd57-67a066131653"
      },
      "source": [
        "nn_y_hat_all = NN_model_train.predict(X_local_all)\n",
        "\n",
        "plt.plot(X_local_all, y_local_all)\n",
        "plt.plot(X_local_all, nn_y_hat_all)\n",
        "plt.plot(X_local_test, nn_y_hat_test)\n",
        "\n",
        "if days_to_view == \"All Data\":\n",
        "    plt.xlim(starting_day_daily, \n",
        "             starting_day_daily + days_to_view_daily + days_to_predict)\n",
        "elif days_to_view == \"Only Validation and Test\":\n",
        "    plt.xlim(starting_day_daily + int(0.7*days_to_view_daily), \n",
        "             starting_day_daily + days_to_view_daily + days_to_predict)\n",
        "elif days_to_view == \"Only Test\":\n",
        "    plt.xlim(starting_day_daily + days_to_view_daily, \n",
        "             starting_day_daily + days_to_view_daily + days_to_predict)"
      ],
      "execution_count": 227,
      "outputs": [
        {
          "output_type": "display_data",
          "data": {
            "image/png": "[encoded data removed]",
            "text/plain": [
              "<Figure size 432x288 with 1 Axes>"
            ]
          },
          "metadata": {
            "tags": [],
            "needs_background": "light"
          }
        }
      ]
    }
  ]
}